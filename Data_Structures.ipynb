{
  "nbformat": 4,
  "nbformat_minor": 0,
  "metadata": {
    "colab": {
      "provenance": []
    },
    "kernelspec": {
      "name": "python3",
      "display_name": "Python 3"
    },
    "language_info": {
      "name": "python"
    }
  },
  "cells": [
    {
      "cell_type": "markdown",
      "source": [
        "# **Data Structures**"
      ],
      "metadata": {
        "id": "AYJymSO1nwux"
      }
    },
    {
      "cell_type": "markdown",
      "source": [
        "1. What are data structures, and why are they important?\n",
        "\n",
        "---\n",
        "In Python, data structures are tools to organize and manage data. Key built-in data structures include:\n",
        "\n",
        "List: Ordered, mutable. Example: [1, 2, 3]\n",
        "\n",
        "Tuple: Ordered, immutable. Example: (1, 2, 3)\n",
        "\n",
        "Set: Unordered, unique elements. Example: {1, 2, 3}\n",
        "\n",
        "Dictionary: Key-value pairs. Example: {\"a\": 1, \"b\": 2}\n",
        "\n",
        "Advanced structures include deque, heap, and defaultdict for specific needs. They are essential for efficient and organized data handling.\n"
      ],
      "metadata": {
        "id": "960DAl1PeJFE"
      }
    },
    {
      "cell_type": "markdown",
      "source": [
        "2. Explain the difference between mutable and immutable data types with examples\n",
        "\n",
        "\n",
        "---\n",
        "\n",
        "1. Mutable Data Types:\n",
        "\n",
        "Can be modified after creation.\n",
        "\n",
        "Example: Lists, Dictionaries, Sets.\n",
        "\n",
        "Changes occur in-place without creating a new object.\n",
        "\n",
        "\n",
        "\n",
        "2. Immutable Data Types:\n",
        "\n",
        "Cannot be modified after creation.\n",
        "\n",
        "Example: Strings, Tuples, Integers.\n",
        "\n",
        "Any change results in a new object being created."
      ],
      "metadata": {
        "id": "SyR9LTXMiLO7"
      }
    },
    {
      "cell_type": "markdown",
      "source": [
        "3. What are the main differences between lists and tuples in Python?\n",
        "\n",
        "\n",
        "---\n",
        "**Main Differences Between Lists and Tuples in Python**\n",
        "\n",
        "1. Mutability:\n",
        "\n",
        "Lists: Mutable (can be modified).\n",
        "\n",
        "Tuples: Immutable (cannot be modified).\n",
        "\n",
        "Example:\n",
        "\n",
        "my_list = [1, 2, 3]\n",
        "\n",
        "my_list.append(4)\n",
        "\n",
        "my_tuple = (1, 2, 3)\n",
        "\n",
        "my_tuple[0] = 4  # Error: Tuples are immutable\n",
        "\n",
        "2. Syntax:\n",
        "\n",
        "Lists: Defined using square brackets [].\n",
        "\n",
        "Tuples: Defined using parentheses ().\n",
        "\n",
        "Example:\n",
        "\n",
        "my_list = [1, 2, 3]\n",
        "\n",
        "my_tuple = (1, 2, 3)\n",
        "\n",
        "3. Performance:\n",
        "\n",
        "Lists: Slower due to dynamic nature.\n",
        "\n",
        "Tuples: Faster due to immutability.\n",
        "\n",
        "4. Use Case:\n",
        "\n",
        "Lists: Used for collections of items that may change.\n",
        "\n",
        "Tuples: Used for fixed collections of items.\n",
        "\n",
        "In short: Lists are mutable and flexible, while tuples are immutable and faster.\n",
        "\n",
        "\n"
      ],
      "metadata": {
        "id": "A1Q8yZDKkK1Q"
      }
    },
    {
      "cell_type": "markdown",
      "source": [
        "4. Describe how dictionaries store data.\n",
        "\n",
        "\n",
        "---\n",
        "\n",
        "In Python, dictionaries store data as key-value pairs.\n",
        "\n",
        "Here's how it works:\n",
        "\n",
        "Hashing:\n",
        "\n",
        "Each key is hashed using a hash function, which generates a unique hash code. This hash code determines the location (or index) where the value is stored in memory.\n",
        "\n",
        "Key-Value Mapping:\n",
        "\n",
        "Keys act as unique identifiers to access the associated values.\n",
        "Example: {\"name\": \"Alice\", \"age\": 25} where \"name\" is a key and \"Alice\" is its value.\n",
        "\n",
        "Efficient Access:\n",
        "\n",
        "Due to hashing, lookup, insertion, and deletion operations are very fast, typically O(1) on average.\n",
        "\n",
        "Unique Keys:\n",
        "\n",
        "Keys must be unique and immutable (e.g., strings, numbers, tuples).\n",
        "Values can be mutable or immutable and duplicated.\n",
        "In brief, dictionaries use a hash table mechanism to store data, making them efficient for quick lookups and modifications."
      ],
      "metadata": {
        "id": "OhRtDywZlszf"
      }
    },
    {
      "cell_type": "markdown",
      "source": [
        "5. Why might you use a set instead of a list in Python?\n",
        "\n",
        "\n",
        "---\n",
        "\n",
        "You might use a set instead of a list in Python when:\n",
        "\n",
        "Uniqueness: Sets automatically remove duplicate elements, ensuring all items are unique.\n",
        "\n",
        "Example:\n",
        "\n",
        "set([1, 2, 2, 3]) results in {1, 2, 3}.\n",
        "Faster Membership Testing: Sets allow O(1) average time complexity for checking if an element exists.\n",
        "\n",
        "Example:\n",
        "\n",
        "3 in my_set is faster than 3 in my_list for large collections.\n",
        "Set Operations: Sets support mathematical operations like union, intersection, and difference.\n",
        "\n",
        "Example:\n",
        "\n",
        "a = {1, 2, 3}\n",
        "\n",
        "b = {3, 4, 5}\n",
        "\n",
        "print(a & b)  # Intersection: {3}\n",
        "\n",
        "In brief, use a set for unique elements, fast membership checks, and mathematical set operations."
      ],
      "metadata": {
        "id": "y_8YNAxJmSoM"
      }
    },
    {
      "cell_type": "markdown",
      "source": [
        "6. What is a string in Python, and how is it different from a list?\n",
        "\n",
        "\n",
        "---\n",
        "A string in Python is a sequence of characters enclosed in quotes (', \", ''', or \"\"\").\n",
        "Example: \"hello\", 'Python'.\n",
        "\n",
        "Difference between a string and list\n",
        "\n",
        "String:\n",
        "1. It is immutable\n",
        "2. It stores only characters\n",
        "3. It is enclosed in quotes\n",
        "4. Supports concatenation and slicing\n",
        "\n",
        "List:\n",
        "1. It is mutable\n",
        "2. It can store any data type\n",
        "3. It is enclosed in square brackets\n",
        "4. It can modify, append, or remove\n",
        "\n",
        "In brief, strings are immutable and store characters, while lists are mutable and can store multiple data types."
      ],
      "metadata": {
        "id": "H3SK9fTlnhPN"
      }
    },
    {
      "cell_type": "markdown",
      "source": [
        "7. How do tuples ensure data integrity in Python?\n",
        "\n",
        "\n",
        "---\n",
        "\n",
        "Tuples ensure data integrity in Python through their immutability. Once a tuple is created, its elements cannot be modified, added, or removed, which guarantees that the data remains constant throughout the program.\n",
        "\n",
        "Key Points:\n",
        "1. Immutability:\n",
        "   - Prevents accidental or intentional changes to data.\n",
        "   - Ensures the integrity of the data when shared between functions or threads.\n",
        "\n",
        "2. Hashable:\n",
        "   - Tuples can be used as keys in dictionaries or elements in sets (if they contain only hashable elements), making them suitable for fixed, unique datasets.\n",
        "\n",
        "3. Reliable for Fixed Data:\n",
        "   - Ideal for storing unchanging data like coordinates, configurations, or constant values.\n",
        "\n",
        "In brief, tuples' immutability ensures data remains consistent and unaltered, making them suitable for scenarios where data integrity is critical."
      ],
      "metadata": {
        "id": "dxgDunXCpHCo"
      }
    },
    {
      "cell_type": "markdown",
      "source": [
        "8. What is a hash table, and how does it relate to dictionaries in Python?\n",
        "\n",
        "---\n",
        "\n",
        "A hash table is a data structure that stores data as key-value pairs and uses a hash function to compute a unique index (hash code) for each key. This enables fast data access, insertion, and deletion.\n",
        "\n",
        "Relation to Python Dictionaries:\n",
        "\n",
        "Dictionaries in Python are implemented using hash tables.\n",
        "Keys are hashed to determine where to store values in memory.\n",
        "This provides O(1) average time complexity for operations like lookup, insert, and delete.\n",
        "\n",
        "Key Features:\n",
        "\n",
        "Fast Lookups: Quick access to values using keys.\n",
        "\n",
        "Unique Keys: Keys must be immutable and unique to avoid collisions.\n",
        "In brief, Python dictionaries use hash tables to efficiently store and retrieve data."
      ],
      "metadata": {
        "id": "QI_HgapaqX0C"
      }
    },
    {
      "cell_type": "markdown",
      "source": [
        "9. Can lists contain different data types in Python?\n",
        "\n",
        "---\n",
        "Yes, lists in Python can contain different data types. A list can hold integers, strings, floats, objects, or even other lists.\n",
        "\n"
      ],
      "metadata": {
        "id": "uEA_wOKzseC6"
      }
    },
    {
      "cell_type": "markdown",
      "source": [
        "10. Explain why strings are immutable in Python?\n",
        "\n",
        "---\n",
        "\n",
        "Strings are immutable in Python to ensure data integrity, security, and efficiency. Once a string is created, it cannot be modified. Any operation that changes a string creates a new string object.\n",
        "\n",
        "Reasons for Immutability:\n",
        "\n",
        "Memory Efficiency: Immutable strings can be reused, reducing memory usage.\n",
        "\n",
        "Example: Strings with the same value share the same memory location.\n",
        "\n",
        "Hashability: Immutability allows strings to be used as keys in dictionaries or elements in sets.\n",
        "\n",
        "Thread-Safety: Immutable objects are safe to use in multi-threaded programs.\n"
      ],
      "metadata": {
        "id": "jx0zVZLxs9uJ"
      }
    },
    {
      "cell_type": "markdown",
      "source": [
        "11. What advantages do dictionaries offer over lists for certain tasks?\n",
        "\n",
        "\n",
        "---\n",
        "\n",
        "\n",
        "Dictionaries offer several advantages over lists for certain tasks:\n",
        "\n",
        "Key-Value Mapping:\n",
        "\n",
        "Access data using keys instead of indices, making retrieval intuitive and faster.\n",
        "\n",
        "Example: student[\"name\"] is more meaningful than student[0].\n",
        "\n",
        "Faster Lookups:\n",
        "\n",
        "Average O(1) time complexity for lookups in dictionaries (due to hash tables), compared to O(n) in lists.\n",
        "\n",
        "Data Organization:\n",
        "\n",
        "Store relationships between data with keys and values.\n",
        "\n",
        "Example: {\"name\": \"Alice\", \"age\": 25} is easier to read and understand than [0, \"Alice\", 25].\n",
        "\n",
        "Uniqueness:\n",
        "\n",
        "Keys in dictionaries are unique, preventing duplicate identifiers.\n",
        "\n",
        "Dynamic Data:\n",
        "\n",
        "Easily add, update, or delete data without worrying about order.\n",
        "\n",
        "In brief, dictionaries are ideal for tasks requiring fast lookups, unique keys, and meaningful relationships between data."
      ],
      "metadata": {
        "id": "95Wa4ewjt5OA"
      }
    },
    {
      "cell_type": "markdown",
      "source": [
        "12. Describe a scenario where using a tuple would be preferable over a list.\n",
        "\n",
        "\n",
        "---\n",
        "\n",
        "A tuple is preferable over a list when you need immutable, fixed data that should not change throughout the program.\n",
        "\n",
        "Storing Coordinates:\n",
        "\n",
        "If you are working with geographical coordinates (latitude, longitude), use a tuple to ensure the values remain unchanged.\n",
        "\n",
        "Example:\n",
        "coordinates = (40.7128, -74.0060)\n",
        "\n",
        "Immutability ensures the data stays consistent.\n",
        "Faster and more memory-efficient compared to lists.\n",
        "Can be used as a key in dictionaries (hashable).\n",
        "In brief, use tuples for fixed, unchangeable collections like coordinates or constant data."
      ],
      "metadata": {
        "id": "3_Ets4uKvUiG"
      }
    },
    {
      "cell_type": "markdown",
      "source": [
        "13. How do sets handle duplicate values in Python?\n",
        "\n",
        "---\n",
        "\n",
        "In Python, sets automatically remove duplicate values. When you add elements to a set, it keeps only unique values.\n",
        "\n",
        "How it Works:\n",
        "\n",
        "Sets are unordered collections of unique elements.\n",
        "If you attempt to add a duplicate, it will be ignored.\n",
        "Example:"
      ],
      "metadata": {
        "id": "kABH_YFZwVoc"
      }
    },
    {
      "cell_type": "markdown",
      "source": [
        "14. How does the \"in\" keyword work differently for lists and dictionaries?\n",
        "\n",
        "\n",
        "---\n",
        "\n",
        "The in keyword in Python is used to check membership, but its behavior differs between lists and dictionaries:\n",
        "\n",
        "1. For Lists:\n",
        "\n",
        "The in keyword checks if a given value exists as an element in the list.\n",
        "It performs a linear search, iterating through the list to find a match\n",
        "\n",
        "Example:\n",
        "my_list = [1, 2, 3, 4, 5]\n",
        "\n",
        "print(3 in my_list)  # True, because 3 is an element of the list\n",
        "\n",
        "print(6 in my_list)  # False, because 6 is not in the list\n",
        "\n",
        "2. For Dictionaries:\n",
        "\n",
        "The in keyword checks for keys only, not values.\n",
        "If the key exists in the dictionary, it returns True; otherwise, False.\n",
        "\n",
        "Example:\n",
        "\n",
        "my_dict = {'a': 1, 'b': 2, 'c': 3}\n",
        "\n",
        "print('a' in my_dict)  # True, because 'a' is a key in the dictionary\n",
        "\n",
        "print(1 in my_dict)    # False, because 1 is a value, not a key"
      ],
      "metadata": {
        "id": "d1fGr8UC9w1M"
      }
    },
    {
      "cell_type": "markdown",
      "source": [
        "15. Can you modify the elements of a tuple? Explain why or why not?\n",
        "\n",
        "\n",
        "---\n",
        "\n",
        "No, you cannot modify the elements of a tuple because tuples are immutable in Python. This means that once a tuple is created, its elements cannot be changed, added, or removed.\n",
        "\n",
        "Why Are Tuples Immutable?\n",
        "\n",
        "Design Choice:\n",
        "\n",
        "Tuples are designed to provide a fixed, read-only sequence of elements, which can serve as a lightweight, immutable alternative to lists.\n",
        "Their immutability ensures that their values remain constant, making them ideal for use as keys in dictionaries or elements in sets.\n",
        "Memory Optimization:\n",
        "\n",
        "Since tuples are immutable, Python can optimize their storage and access. This can make tuples slightly faster than lists for certain operations.\n",
        "Data Integrity:\n",
        "\n",
        "By being immutable, tuples help prevent accidental modification of data, which can be especially important in multi-threaded or complex programs."
      ],
      "metadata": {
        "id": "Lm3udr5OAtOH"
      }
    },
    {
      "cell_type": "markdown",
      "source": [
        "16. What is a nested dictionary, and give an example of its use case.\n",
        "\n",
        "\n",
        "---\n",
        "\n",
        "A nested dictionary is a dictionary inside another dictionary. It allows you to store and organize data hierarchically, enabling multi-level structures for better organization and retrieval of complex data.\n",
        "\n",
        "Structure of a Nested Dictionary\n",
        "\n",
        "In a nested dictionary:\n",
        "Keys can map to another dictionary as their value.\n",
        "You can access nested values by chaining keys.\n",
        "\n",
        "Example:\n",
        "\n",
        "nested_dict = {\n",
        "\n",
        "    'person1': {'name': 'Alice', 'age': 30, 'city': 'New York'},\n",
        "\n",
        "    'person2': {'name': 'Bob', 'age': 25, 'city': 'Los Angeles'},\n",
        "\n",
        "    'person3': {'name': 'Charlie', 'age': 35, 'city': 'Chicago'}\n",
        "}\n",
        "\n",
        "**Use Cases**\n",
        "\n",
        "1. Storing Employee Information\n",
        "\n",
        "A nested dictionary can be used to represent employees in a company, where each employee has attributes like name, age, and department.\n",
        "\n",
        "employees = {\n",
        "\n",
        "    'E001': {'name': 'Alice', 'age': 30, 'department': 'HR'},\n",
        "\n",
        "    'E002': {'name': 'Bob', 'age': 25, 'department': 'Engineering'},\n",
        "\n",
        "    'E003': {'name': 'Charlie', 'age': 35, 'department': 'Finance'}\n",
        "\n",
        "}\n",
        "\n",
        "**Accessing data**\n",
        "\n",
        "print(employees['E002']['name'])  # Output: Bob\n",
        "\n",
        "print(employees['E003']['department'])  # Output: Finance\n",
        "\n",
        "\n",
        "**Practical Use Cases of Nested Dictionaries**\n",
        "\n",
        "1. Hierarchical Data Representation:\n",
        "\n",
        "Nested dictionaries can be used to represent hierarchical data like organizational structures, file systems, or categories of products.\n",
        "\n",
        "\n",
        "**Example:**\n",
        "\n",
        "company = {\n",
        "\n",
        "    'HR': {'Manager': 'Alice', 'Intern': 'David'},\n",
        "\n",
        "    'Engineering': {'Team Lead': 'Bob', 'Developer': 'Eve'},\n",
        "\n",
        "    'Finance': {'CFO': 'Charlie', 'Accountant': 'Frank'}\n",
        "}\n",
        "\n",
        "print(company['Engineering']['Team Lead'])  # Output: Bob\n",
        "\n",
        "2. **Data from APIs: **\n",
        "\n",
        "When working with APIs, the response data is often in JSON format, which resembles nested dictionaries. You can parse and extract the necessary information.\n",
        "\n",
        "api_response = {\n",
        "\n",
        "    'status': 'success',\n",
        "    'data': {\n",
        "        'user': {\n",
        "            'id': 101,\n",
        "            'name': 'Alice',\n",
        "            'email': 'alice@example.com'\n",
        "        }\n",
        "    }\n",
        "}\n",
        "\n",
        "print(api_response['data']['user']['email'])  # Output: alice@example.com\n",
        "\n",
        "**3. Student Grades: **\n",
        "\n",
        "A nested dictionary can store students' grades for different subjects:\n",
        "\n",
        "grades = {\n",
        "\n",
        "    'John': {'Math': 85, 'Science': 90},\n",
        "\n",
        "    'Jane': {'Math': 78, 'Science': 88}\n",
        "\n",
        "}\n",
        "\n",
        "print(grades['John']['Science'])  # Output: 90"
      ],
      "metadata": {
        "id": "EFn0aZ7oA80o"
      }
    },
    {
      "cell_type": "markdown",
      "source": [
        "17. Describe the time complexity of accssing elements in a dictionary\n",
        "\n",
        "\n",
        "---\n",
        "\n",
        "\n",
        "The time complexity of accessing elements in a dictionary is:\n",
        "\n",
        "Average Case: O(1)\n",
        "\n",
        "Direct key lookups are fast because Python uses a hash table to map keys to values.\n",
        "\n",
        "Worst Case: O(n)\n",
        "\n",
        "This occurs when hash collisions lead to multiple keys mapping to the same index, requiring a linear search.\n",
        "For most practical scenarios, dictionary access is highly efficient with an O(1) complexity."
      ],
      "metadata": {
        "id": "0FGaiCfcAwmG"
      }
    },
    {
      "cell_type": "markdown",
      "source": [
        "18. In what situations are lists preferred over dictionaries?\n",
        "\n",
        "\n",
        "---\n",
        "\n",
        "\n",
        "Lists are preferred over dictionaries in the following situations:\n",
        "\n",
        "Ordered Data: When maintaining the order of elements is important.\n",
        "\n",
        "Sequential Access: When accessing elements by index is needed.\n",
        "\n",
        "Simple Iteration: For iterating over items without key-value relationships.\n",
        "\n",
        "Homogeneous Data: For collections of similar items, like numbers or strings.\n",
        "\n",
        "Space Efficiency: When memory usage needs to be minimized.\n",
        "\n",
        "Sorting: When sorting is required, as lists have built-in methods for this."
      ],
      "metadata": {
        "id": "tRdtg52KH5QU"
      }
    },
    {
      "cell_type": "markdown",
      "source": [
        "19. Why are dictionaries considered unordered, and how does that affect data retrieval?\n",
        "\n",
        "\n",
        "---\n",
        "\n",
        "Dictionaries in Python were traditionally considered unordered because they did not guarantee the order of key-value pairs prior to Python 3.7.\n",
        "\n",
        "Starting from Python 3.7, dictionaries maintain the insertion order of keys as an implementation detail (and officially guaranteed in Python 3.8). However, this behavior does not affect the primary way dictionaries work.\n",
        "\n",
        "Key Points:\n",
        "\n",
        "Unordered Nature (Pre-Python 3.7):\n",
        "\n",
        "Keys were stored based on their hash values, not the sequence of insertion, making retrieval order unpredictable.\n",
        "\n",
        "Impact on Data Retrieval:\n",
        "\n",
        "Keys are accessed directly using their hash values, so retrieval is based on key lookup rather than position or sequence, ensuring efficient access with O(1) time complexity.\n",
        "\n",
        "This behavior means you cannot rely on the order of keys (pre-3.7) unless explicitly using an ordered structure like collections.OrderedDict.\n",
        "\n",
        "In Brief:\n",
        "\n",
        "Dictionaries are unordered because they rely on hash-based indexing for efficient lookups, and this affects retrieval by focusing on key-value mapping rather than sequence. Starting from Python 3.7, insertion order is preserved."
      ],
      "metadata": {
        "id": "hCh_iZVQIvvG"
      }
    },
    {
      "cell_type": "markdown",
      "source": [
        "20. Explain the difference between a list and a dictionary in terms of data retrieval.\n",
        "\n",
        "\n",
        "---\n",
        "\n",
        "1. Access Mechanism:\n",
        "\n",
        "List: Retrieve elements by their index (e.g., list[0]).\n",
        "\n",
        "Dictionary: Retrieve values using keys (e.g., dict['key']).\n",
        "\n",
        "2. Time Complexity:\n",
        "\n",
        "List: Access by index is O(1), but searching is O(n).\n",
        "\n",
        "Dictionary: Key lookup is O(1) (average case).\n",
        "\n",
        "3. Structure:\n",
        "\n",
        "List: Stores ordered elements without key-value relationships.\n",
        "\n",
        "Dictionary: Stores unordered (or insertion-ordered from Python 3.7+) key-value pairs."
      ],
      "metadata": {
        "id": "1yNmKlc7K3WF"
      }
    },
    {
      "cell_type": "markdown",
      "source": [
        "## **Practical Questions**"
      ],
      "metadata": {
        "id": "7pws47_eeSYz"
      }
    },
    {
      "cell_type": "code",
      "source": [
        "#1. Write a code to create a string with your name and print it\n",
        "name = \"Sameera\"\n",
        "print(\"My name is\", name)"
      ],
      "metadata": {
        "colab": {
          "base_uri": "https://localhost:8080/"
        },
        "id": "r5ezFW_An51r",
        "outputId": "25dfed12-8ce7-4a2c-b342-94512dd42229"
      },
      "execution_count": null,
      "outputs": [
        {
          "output_type": "stream",
          "name": "stdout",
          "text": [
            "My name is Sameera\n"
          ]
        }
      ]
    },
    {
      "cell_type": "code",
      "source": [
        "#2. Write a code to find the length of the string \"Hello World\".\n",
        "my_string= \"Hello World\"\n",
        "length= len(my_string)\n",
        "print(\"Length of the string is\", length)\n"
      ],
      "metadata": {
        "colab": {
          "base_uri": "https://localhost:8080/"
        },
        "id": "1mBC0-VaosEQ",
        "outputId": "608f2a19-e6ac-4fda-b75d-5644e2b2bdf0"
      },
      "execution_count": null,
      "outputs": [
        {
          "output_type": "stream",
          "name": "stdout",
          "text": [
            "Length of the string is 11\n"
          ]
        }
      ]
    },
    {
      "cell_type": "code",
      "source": [
        "#3. Write a code to slice the first 3 characters from the string \"Python Programming\".\n",
        "\n",
        "string = \"Python Programming\"\n",
        "first_three_characters = string[:3]\n",
        "print(\"The first 3 characters are:\", first_three_characters)"
      ],
      "metadata": {
        "colab": {
          "base_uri": "https://localhost:8080/"
        },
        "id": "HgZPJTddqFhP",
        "outputId": "585663df-4e02-4656-e7ab-dd97d02988f5"
      },
      "execution_count": null,
      "outputs": [
        {
          "output_type": "stream",
          "name": "stdout",
          "text": [
            "The first 3 characters are: Pyt\n"
          ]
        }
      ]
    },
    {
      "cell_type": "code",
      "source": [
        "#4. Write a code to convert the string \"hello\" to uppercase\n",
        "\n",
        "string1 = \"hello\"\n",
        "uppercase_string1 = string1.upper()\n",
        "print(uppercase_string1)"
      ],
      "metadata": {
        "colab": {
          "base_uri": "https://localhost:8080/"
        },
        "id": "v7WzkPKYrXyv",
        "outputId": "44816275-fd13-4816-e99c-91583d69ea4d"
      },
      "execution_count": null,
      "outputs": [
        {
          "output_type": "stream",
          "name": "stdout",
          "text": [
            "HELLO\n"
          ]
        }
      ]
    },
    {
      "cell_type": "code",
      "source": [
        "#5. Write a code to replace the word \"apple\" with \"orange\" in the string \"I like apple\".\n",
        "string1 = \"I like apple\"\n",
        "updated_string1 = string1.replace(\"apple\", \"orange\")\n",
        "print(updated_string1)"
      ],
      "metadata": {
        "colab": {
          "base_uri": "https://localhost:8080/"
        },
        "id": "yGHQQxO5s9gL",
        "outputId": "f1338383-413e-49ef-fdb0-da948ed93ae1"
      },
      "execution_count": null,
      "outputs": [
        {
          "output_type": "stream",
          "name": "stdout",
          "text": [
            "I like orange\n"
          ]
        }
      ]
    },
    {
      "cell_type": "code",
      "source": [
        "#6. Write a code to create a list with numbers 1 to 5 and print it.\n",
        "my_list= [1,2,3,4,5]\n",
        "print(my_list)"
      ],
      "metadata": {
        "colab": {
          "base_uri": "https://localhost:8080/"
        },
        "id": "enOgigymu5bq",
        "outputId": "68af4cab-f680-4d1e-ddcf-814f1cc6d393"
      },
      "execution_count": null,
      "outputs": [
        {
          "output_type": "stream",
          "name": "stdout",
          "text": [
            "[1, 2, 3, 4, 5]\n"
          ]
        }
      ]
    },
    {
      "cell_type": "code",
      "source": [
        "#7. Write a code to append the number 10 to the list [1,2,3,4].\n",
        "my_list= [1,2,3,4]\n",
        "my_list.append(10)\n",
        "print(my_list)"
      ],
      "metadata": {
        "colab": {
          "base_uri": "https://localhost:8080/"
        },
        "id": "oBta8c4Txl9V",
        "outputId": "acebab9d-b115-401b-aa66-f965f8b913a0"
      },
      "execution_count": null,
      "outputs": [
        {
          "output_type": "stream",
          "name": "stdout",
          "text": [
            "[1, 2, 3, 4, 10]\n"
          ]
        }
      ]
    },
    {
      "cell_type": "code",
      "source": [
        "#8. Write a code to remove the number 3 from the list [1,2,3,4,5]\n",
        "numbers= [1,2,3,4,5]\n",
        "numbers.remove(3)\n",
        "print(numbers)"
      ],
      "metadata": {
        "colab": {
          "base_uri": "https://localhost:8080/"
        },
        "id": "oWR_qgkizNFH",
        "outputId": "49e6764c-7c30-40c2-e71d-9e9345e0312e"
      },
      "execution_count": null,
      "outputs": [
        {
          "output_type": "stream",
          "name": "stdout",
          "text": [
            "[1, 2, 4, 5]\n"
          ]
        }
      ]
    },
    {
      "cell_type": "code",
      "source": [
        "#9. Write a code to access the second element in the list ['a','b','c','d'].\n",
        "list1= ['a','b','c','d']\n",
        "list1[1]\n"
      ],
      "metadata": {
        "colab": {
          "base_uri": "https://localhost:8080/",
          "height": 35
        },
        "id": "-zmSRdukz6fe",
        "outputId": "1f2d67a4-ef26-492d-b8a7-a7bb1bc5e8d3"
      },
      "execution_count": null,
      "outputs": [
        {
          "output_type": "execute_result",
          "data": {
            "text/plain": [
              "'b'"
            ],
            "application/vnd.google.colaboratory.intrinsic+json": {
              "type": "string"
            }
          },
          "metadata": {},
          "execution_count": 26
        }
      ]
    },
    {
      "cell_type": "code",
      "source": [
        "#10. Write a code to reverse the list [10, 20, 30, 40, 50].\n",
        "list2= [10, 20, 30, 40, 50]\n",
        "list2.reverse()\n",
        "print(list2)\n"
      ],
      "metadata": {
        "colab": {
          "base_uri": "https://localhost:8080/"
        },
        "id": "zpr8xd5n0Z0m",
        "outputId": "176985f3-56d0-4d44-f6da-e489d4963eeb"
      },
      "execution_count": null,
      "outputs": [
        {
          "output_type": "stream",
          "name": "stdout",
          "text": [
            "[50, 40, 30, 20, 10]\n"
          ]
        }
      ]
    },
    {
      "cell_type": "code",
      "source": [
        "#11. Write a code to create a tuple with the elements 10, 20, 30 and print it.\n",
        "tuple1= (10, 20, 30)\n",
        "print(tuple1)"
      ],
      "metadata": {
        "colab": {
          "base_uri": "https://localhost:8080/"
        },
        "id": "g83zB3Mj1v54",
        "outputId": "fd1a8351-2265-488a-88a5-13f7f6736119"
      },
      "execution_count": null,
      "outputs": [
        {
          "output_type": "stream",
          "name": "stdout",
          "text": [
            "(10, 20, 30)\n"
          ]
        }
      ]
    },
    {
      "cell_type": "code",
      "source": [
        "#12. Write a code to access the first element of the tuple ('apple','banana','cherry').\n",
        "tuple2= ('apple','banana','cherry')\n",
        "tuple2[0]"
      ],
      "metadata": {
        "colab": {
          "base_uri": "https://localhost:8080/",
          "height": 35
        },
        "id": "buDoFgIA2eQb",
        "outputId": "1bacc253-9738-47b8-f8f4-8661e0b523e6"
      },
      "execution_count": null,
      "outputs": [
        {
          "output_type": "execute_result",
          "data": {
            "text/plain": [
              "'apple'"
            ],
            "application/vnd.google.colaboratory.intrinsic+json": {
              "type": "string"
            }
          },
          "metadata": {},
          "execution_count": 31
        }
      ]
    },
    {
      "cell_type": "code",
      "source": [
        "#13. Write a code to count how many times the number 2 appears in the tuple(1,2,3,2,4,2).\n",
        "tuple3= (1,2,3,2,4,2)\n",
        "count= tuple3.count(2)\n",
        "print(\"The number 2 appears\", count, \"times in the tuple.\")\n"
      ],
      "metadata": {
        "colab": {
          "base_uri": "https://localhost:8080/"
        },
        "id": "8iN8ukz129L5",
        "outputId": "3bb26446-9771-4806-de79-e17d746b9f78"
      },
      "execution_count": null,
      "outputs": [
        {
          "output_type": "stream",
          "name": "stdout",
          "text": [
            "The number 2 appears 3 times in the tuple.\n"
          ]
        }
      ]
    },
    {
      "cell_type": "code",
      "source": [
        "#14. Write a code to find the index of the element \"cat\" in the tuple ('dog','cat','rabbit').\n",
        "tuple4= ('dog','cat','rabbit')\n",
        "tuple4.index('cat')"
      ],
      "metadata": {
        "colab": {
          "base_uri": "https://localhost:8080/"
        },
        "id": "UDkBploJ3f4H",
        "outputId": "ad8f883f-adb3-4b5e-c5e4-21fae09d8b92"
      },
      "execution_count": null,
      "outputs": [
        {
          "output_type": "execute_result",
          "data": {
            "text/plain": [
              "1"
            ]
          },
          "metadata": {},
          "execution_count": 34
        }
      ]
    },
    {
      "cell_type": "code",
      "source": [
        "#15. Write a code to check if the element \"banana\" is in the tuple ('apple','orange','banana').\n",
        "fruits = ('apple', 'orange', 'banana')\n",
        "if \"banana\" in fruits:\n",
        "    print(\"banana is in the tuple.\")\n",
        "else:\n",
        "    print(\"banana is not in the tuple.\")"
      ],
      "metadata": {
        "colab": {
          "base_uri": "https://localhost:8080/"
        },
        "id": "IJ3x3g5334vf",
        "outputId": "1a3bbbc2-005d-4e5e-dfe4-ea5b38cd4154"
      },
      "execution_count": null,
      "outputs": [
        {
          "output_type": "stream",
          "name": "stdout",
          "text": [
            "banana is in the tuple.\n"
          ]
        }
      ]
    },
    {
      "cell_type": "code",
      "source": [
        "#16. Write a code to create a set with the elements 1,2,3,4,5 and print it.\n",
        "set1= {1,2,3,4,5}\n",
        "print(set1)"
      ],
      "metadata": {
        "colab": {
          "base_uri": "https://localhost:8080/"
        },
        "id": "-Uw9AQLi5W2j",
        "outputId": "3ea9dca5-50f2-43fe-afc3-fd6b66f59b2f"
      },
      "execution_count": null,
      "outputs": [
        {
          "output_type": "stream",
          "name": "stdout",
          "text": [
            "{1, 2, 3, 4, 5}\n"
          ]
        }
      ]
    },
    {
      "cell_type": "code",
      "source": [
        "#17. Write a code to add the element 6 to the set {1,2,3,4}\n",
        "set2= {1,2,3,4}\n",
        "set2.add(6)\n",
        "print(set2)"
      ],
      "metadata": {
        "colab": {
          "base_uri": "https://localhost:8080/"
        },
        "id": "APJpt_mh5ttE",
        "outputId": "c3481d0d-4864-4b4a-caa9-0cc6da47b920"
      },
      "execution_count": null,
      "outputs": [
        {
          "output_type": "stream",
          "name": "stdout",
          "text": [
            "{1, 2, 3, 4, 6}\n"
          ]
        }
      ]
    },
    {
      "cell_type": "code",
      "source": [
        "#18. Write a code to create a tuple with the elements 10, 20, 30 and print it.\n",
        "tuple1= (10, 20, 30)\n",
        "print(tuple1)"
      ],
      "metadata": {
        "id": "g1eXa8Kc6O-z",
        "colab": {
          "base_uri": "https://localhost:8080/"
        },
        "outputId": "909f1b70-529e-4273-eca2-30bb6289df3d"
      },
      "execution_count": null,
      "outputs": [
        {
          "output_type": "stream",
          "name": "stdout",
          "text": [
            "(10, 20, 30)\n"
          ]
        }
      ]
    },
    {
      "cell_type": "code",
      "source": [
        "#19. Write a code to access the first element of the tuple ('apple','banana','cherry').\n",
        "tuple2= ('apple','banana','cherry')\n",
        "tuple2[0]"
      ],
      "metadata": {
        "colab": {
          "base_uri": "https://localhost:8080/",
          "height": 35
        },
        "id": "ueekhtn8dLWO",
        "outputId": "de08362a-fa30-495c-cafc-b9f4dc0fe9de"
      },
      "execution_count": null,
      "outputs": [
        {
          "output_type": "execute_result",
          "data": {
            "text/plain": [
              "'apple'"
            ],
            "application/vnd.google.colaboratory.intrinsic+json": {
              "type": "string"
            }
          },
          "metadata": {},
          "execution_count": 2
        }
      ]
    },
    {
      "cell_type": "code",
      "source": [
        "#20. Write a code to count how many times the number 2 appears in the tuple(1,2,3,2,4,2).\n",
        "tuple3= (1,2,3,2,4,2)\n",
        "count= tuple3.count(2)\n",
        "print(\"The number 2 appears\", count, \"times in the tuple.\")"
      ],
      "metadata": {
        "colab": {
          "base_uri": "https://localhost:8080/"
        },
        "id": "o_lLRKRrdSuG",
        "outputId": "269df64a-704a-45fb-a443-eceb5bfd2d11"
      },
      "execution_count": null,
      "outputs": [
        {
          "output_type": "stream",
          "name": "stdout",
          "text": [
            "The number 2 appears 3 times in the tuple.\n"
          ]
        }
      ]
    },
    {
      "cell_type": "code",
      "source": [
        "#21. Write a code to find the index of the element \"cat\" in the tuple ('dog','cat','rabbit').\n",
        "tuple4= ('dog','cat','rabbit')\n",
        "tuple4.index('cat')"
      ],
      "metadata": {
        "colab": {
          "base_uri": "https://localhost:8080/"
        },
        "id": "Y_7S-PzTdUKw",
        "outputId": "e68e6afa-4bc4-4e01-e8e0-665429332849"
      },
      "execution_count": null,
      "outputs": [
        {
          "output_type": "execute_result",
          "data": {
            "text/plain": [
              "1"
            ]
          },
          "metadata": {},
          "execution_count": 4
        }
      ]
    },
    {
      "cell_type": "code",
      "source": [
        "#22. Write a code to check if the element \"banana\" is in the tuple ('apple','orange','banana').\n",
        "fruits = ('apple', 'orange', 'banana')\n",
        "if \"banana\" in fruits:\n",
        "    print(\"banana is in the tuple.\")\n",
        "else:\n",
        "    print(\"banana is not in the tuple.\")"
      ],
      "metadata": {
        "colab": {
          "base_uri": "https://localhost:8080/"
        },
        "id": "V3BvHyPmdVe3",
        "outputId": "fa7bd430-a8ae-4247-ffad-eafb5343f67c"
      },
      "execution_count": null,
      "outputs": [
        {
          "output_type": "stream",
          "name": "stdout",
          "text": [
            "banana is in the tuple.\n"
          ]
        }
      ]
    },
    {
      "cell_type": "code",
      "source": [
        "#23. Write a code to create a set with the elements 1,2,3,4,5 and print it.\n",
        "set1= {1,2,3,4,5}\n",
        "print(set1)"
      ],
      "metadata": {
        "colab": {
          "base_uri": "https://localhost:8080/"
        },
        "id": "T_AvgnzvdWXH",
        "outputId": "ce4f660c-15b8-45e8-97da-58f792d3d8de"
      },
      "execution_count": null,
      "outputs": [
        {
          "output_type": "stream",
          "name": "stdout",
          "text": [
            "{1, 2, 3, 4, 5}\n"
          ]
        }
      ]
    },
    {
      "cell_type": "code",
      "source": [
        "#24. Write a code to add the element 6 to the set {1,2,3,4}\n",
        "set2= {1,2,3,4}\n",
        "set2.add(6)\n",
        "print(set2)"
      ],
      "metadata": {
        "colab": {
          "base_uri": "https://localhost:8080/"
        },
        "id": "1-UayOYHdWgo",
        "outputId": "da67351d-855a-451d-f1a0-d3dfbb0819b6"
      },
      "execution_count": null,
      "outputs": [
        {
          "output_type": "stream",
          "name": "stdout",
          "text": [
            "{1, 2, 3, 4, 6}\n"
          ]
        }
      ]
    }
  ]
}